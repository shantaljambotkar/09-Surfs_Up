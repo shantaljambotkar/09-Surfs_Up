{
 "cells": [
  {
   "cell_type": "code",
   "execution_count": 2,
   "id": "cf078b6e",
   "metadata": {},
   "outputs": [],
   "source": [
    "#import dependencies\n",
    "from flask import Flask\n"
   ]
  },
  {
   "cell_type": "code",
   "execution_count": 4,
   "id": "f0f81919",
   "metadata": {},
   "outputs": [],
   "source": [
    "#create a new flask instance\n",
    "app = Flask(__name__) #magic method - variable denotes the name of the current function"
   ]
  },
  {
   "cell_type": "code",
   "execution_count": 6,
   "id": "892b9584",
   "metadata": {},
   "outputs": [],
   "source": [
    "#create route\n",
    "@app.route('/')\n",
    "def hello_world():\n",
    "    return 'Hello world'"
   ]
  }
 ],
 "metadata": {
  "kernelspec": {
   "display_name": "Python 3",
   "language": "python",
   "name": "python3"
  },
  "language_info": {
   "codemirror_mode": {
    "name": "ipython",
    "version": 3
   },
   "file_extension": ".py",
   "mimetype": "text/x-python",
   "name": "python",
   "nbconvert_exporter": "python",
   "pygments_lexer": "ipython3",
   "version": "3.8.8"
  }
 },
 "nbformat": 4,
 "nbformat_minor": 5
}
